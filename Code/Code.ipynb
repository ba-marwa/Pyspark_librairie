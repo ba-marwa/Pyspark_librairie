{
 "cells": [
  {
   "cell_type": "markdown",
   "metadata": {},
   "source": [
    "# Projet Big Data: Système de gestion d’emprunt dans une librairie"
   ]
  },
  {
   "cell_type": "markdown",
   "metadata": {},
   "source": [
    "### 0. Création des données"
   ]
  },
  {
   "cell_type": "code",
   "execution_count": 173,
   "metadata": {},
   "outputs": [],
   "source": [
    "from pyspark.context import SparkContext\n",
    "from pyspark.conf import SparkConf\n",
    "from pyspark.sql import SparkSession\n",
    "from pyspark.sql import SQLContext\n",
    "from pyspark.sql import functions as F\n",
    "from pyspark.sql import GroupedData\n",
    "from pyspark.sql import DataFrame \n",
    "from pyspark.sql import Column\n",
    "from pyspark.sql import Row \n",
    "from pyspark.sql import DataFrameNaFunctions \n",
    "from pyspark.sql import DataFrameStatFunctions \n",
    "from pyspark.sql import types \n",
    "from pyspark.sql import Window"
   ]
  },
  {
   "cell_type": "code",
   "execution_count": 6,
   "metadata": {},
   "outputs": [],
   "source": [
    "spark=SparkSession.builder.appName('librairie').getOrCreate()\n",
    "sc=spark.sparkContext\n",
    "sqlContext = SQLContext(sc)"
   ]
  },
  {
   "cell_type": "code",
   "execution_count": 171,
   "metadata": {},
   "outputs": [],
   "source": [
    "borrow=spark.createDataFrame(\n",
    "    [\n",
    "        ('S15', '0003','02-01-2020','01-02-2020'), # create your data here, be consistent in the types.\n",
    "        ('S15', '0002','13-06-2020','null'),\n",
    "        ('S15', '0001','13-06-2020','13-10-2020'),\n",
    "        ('S16', '0002','24-01-2020','24-01-2020'),\n",
    "        ('S17', '0001','12-04-2020','01-07-2020')\n",
    "    ],\n",
    "    ['sid', 'bid','checkout_time','return_time'] # add your columns label here\n",
    ")\n",
    "book=spark.createDataFrame(\n",
    "    [\n",
    "        ('0001',\"L'existentialisme est un humanisme\",'Philosophie'), # create your data here, be consistent in the types.\n",
    "        ('0002',\"Huis clos. Suivi de Les Mouches\",'Philosophie'),\n",
    "        ('0003','Mignonne allons voir si la rose','Poeme'),\n",
    "        ('0004','Les Amours','Poème')],\n",
    "    ['bid','title','category'] # add your columns label here\n",
    ")\n",
    "student=spark.createDataFrame(\n",
    "    [\n",
    "        ('S15', 'toto','Math'),  \n",
    "        ('S16', 'popo','Eco'),\n",
    "        ('S17', 'fofo','Mécanique')],\n",
    "    ['sid', 'sname','dept']\n",
    ")\n",
    "Author=spark.createDataFrame(\n",
    "    [\n",
    "        ('07890', 'Jean Paul Sartre'),  \n",
    "        ('05678', 'Pierre de Ronsard'),],\n",
    "    ['aid', 'name']\n",
    ")\n",
    "write=spark.createDataFrame(\n",
    "    [\n",
    "        ('07890', '0001'),  \n",
    "        ('07890', '0002'),\n",
    "        ('05678', '0003'),  \n",
    "        ('05678', '0003'),],\n",
    "    ['aid', 'bid']\n",
    ")"
   ]
  },
  {
   "cell_type": "markdown",
   "metadata": {},
   "source": [
    "### 1-Trouver les titres de tous les livres que l'étudiant sid='S15' a emprunté."
   ]
  },
  {
   "cell_type": "code",
   "execution_count": 94,
   "metadata": {},
   "outputs": [
    {
     "name": "stdout",
     "output_type": "stream",
     "text": [
      "+---+--------------------+\n",
      "|sid|               title|\n",
      "+---+--------------------+\n",
      "|S15|Huis clos. Suivi ...|\n",
      "|S15|Mignonne allons v...|\n",
      "|S15|L'existentialisme...|\n",
      "+---+--------------------+\n",
      "\n"
     ]
    }
   ],
   "source": [
    "#DSL\n",
    "borrow.filter(borrow.sid=='S15').join(book, borrow.bid==book.bid).select(\"sid\",\"title\").show()"
   ]
  },
  {
   "cell_type": "code",
   "execution_count": 177,
   "metadata": {},
   "outputs": [
    {
     "name": "stdout",
     "output_type": "stream",
     "text": [
      "+---+--------------------+\n",
      "|sid|               title|\n",
      "+---+--------------------+\n",
      "|S15|Huis clos. Suivi ...|\n",
      "|S15|Mignonne allons v...|\n",
      "|S15|L'existentialisme...|\n",
      "+---+--------------------+\n",
      "\n"
     ]
    }
   ],
   "source": [
    "#SQL\n",
    "borrow.createOrReplaceTempView(\"borrow_view\")\n",
    "book.createOrReplaceTempView(\"book_view\")\n",
    "spark.sql(\"\"\"select sid,title\n",
    "            from book_view\n",
    "            join borrow_view\n",
    "            on book_view.bid = borrow_view.bid\n",
    "            where borrow_view.sid = 'S15' \"\"\").show()"
   ]
  },
  {
   "cell_type": "markdown",
   "metadata": {},
   "source": [
    "### 2-Trouver les titres de tous les livres qui n'ont jamais été empruntés par un étudiant."
   ]
  },
  {
   "cell_type": "code",
   "execution_count": 99,
   "metadata": {},
   "outputs": [
    {
     "name": "stdout",
     "output_type": "stream",
     "text": [
      "+----------+\n",
      "|     title|\n",
      "+----------+\n",
      "|Les Amours|\n",
      "+----------+\n",
      "\n"
     ]
    }
   ],
   "source": [
    "#DSL\n",
    "book.join(borrow, borrow.bid==book.bid,'anti').select(\"title\").show()"
   ]
  },
  {
   "cell_type": "code",
   "execution_count": 178,
   "metadata": {},
   "outputs": [
    {
     "name": "stdout",
     "output_type": "stream",
     "text": [
      "+----------+\n",
      "|     title|\n",
      "+----------+\n",
      "|Les Amours|\n",
      "+----------+\n",
      "\n"
     ]
    }
   ],
   "source": [
    "#SQL\n",
    "spark.sql(\"\"\"select title \n",
    "            from book_view\n",
    "            left join borrow_view\n",
    "            on book_view.bid = borrow_view.bid\n",
    "            where borrow_view.bid is null\"\"\").show()"
   ]
  },
  {
   "cell_type": "markdown",
   "metadata": {},
   "source": [
    "### 3-Trouver tous les étudiants qui ont emprunté le livre bid=’0002’"
   ]
  },
  {
   "cell_type": "code",
   "execution_count": 107,
   "metadata": {},
   "outputs": [
    {
     "name": "stdout",
     "output_type": "stream",
     "text": [
      "+----+-----+\n",
      "| bid|sname|\n",
      "+----+-----+\n",
      "|0002| popo|\n",
      "|0002| toto|\n",
      "+----+-----+\n",
      "\n"
     ]
    }
   ],
   "source": [
    "#DSL\n",
    "borrow.filter(borrow.bid=='0002').join(student, borrow.sid==student.sid).select(\"bid\",\"sname\").show()"
   ]
  },
  {
   "cell_type": "code",
   "execution_count": 180,
   "metadata": {},
   "outputs": [
    {
     "name": "stdout",
     "output_type": "stream",
     "text": [
      "+----+-----+\n",
      "| bid|sname|\n",
      "+----+-----+\n",
      "|0002| popo|\n",
      "|0002| toto|\n",
      "+----+-----+\n",
      "\n"
     ]
    }
   ],
   "source": [
    "#SQL\n",
    "student.createOrReplaceTempView(\"student_view\")\n",
    "spark.sql(\"\"\"select bid,sname\n",
    "            from student_view\n",
    "            join borrow_view\n",
    "            on student_view.sid = borrow_view.sid\n",
    "            where borrow_view.bid = '0002' \"\"\").show()"
   ]
  },
  {
   "cell_type": "markdown",
   "metadata": {},
   "source": [
    "### 4-Trouver les titres de tous les livres empruntés par des étudiants en Mécanique (département Mécanique)"
   ]
  },
  {
   "cell_type": "code",
   "execution_count": 172,
   "metadata": {},
   "outputs": [
    {
     "name": "stdout",
     "output_type": "stream",
     "text": [
      "+--------------------+\n",
      "|               title|\n",
      "+--------------------+\n",
      "|L'existentialisme...|\n",
      "+--------------------+\n",
      "\n"
     ]
    }
   ],
   "source": [
    "#DSL\n",
    "student.filter(student.dept==\"Mécanique\").join(borrow, borrow.sid==student.sid).join(book, borrow.bid==book.bid).select(\"title\").show()"
   ]
  },
  {
   "cell_type": "code",
   "execution_count": 181,
   "metadata": {},
   "outputs": [
    {
     "name": "stdout",
     "output_type": "stream",
     "text": [
      "+--------------------+\n",
      "|               title|\n",
      "+--------------------+\n",
      "|L'existentialisme...|\n",
      "+--------------------+\n",
      "\n"
     ]
    }
   ],
   "source": [
    "#SQL\n",
    "spark.sql(\"\"\"select title\n",
    "            from book_view\n",
    "            join borrow_view\n",
    "            on book_view.bid = borrow_view.bid\n",
    "            join student_view\n",
    "            on borrow_view.sid = Student_view.sid\n",
    "            where student_view.dept = 'Mécanique' \"\"\").show()"
   ]
  },
  {
   "cell_type": "markdown",
   "metadata": {},
   "source": [
    "### 5-Trouver les étudiants qui n’ont jamais emprunté de livre. "
   ]
  },
  {
   "cell_type": "code",
   "execution_count": 108,
   "metadata": {},
   "outputs": [
    {
     "name": "stdout",
     "output_type": "stream",
     "text": [
      "+-----+\n",
      "|sname|\n",
      "+-----+\n",
      "+-----+\n",
      "\n"
     ]
    }
   ],
   "source": [
    "#DSL\n",
    "student.join(borrow, borrow.sid==student.sid,'anti').select(\"sname\").show()"
   ]
  },
  {
   "cell_type": "code",
   "execution_count": 183,
   "metadata": {},
   "outputs": [
    {
     "name": "stdout",
     "output_type": "stream",
     "text": [
      "+-----+\n",
      "|sname|\n",
      "+-----+\n",
      "+-----+\n",
      "\n"
     ]
    }
   ],
   "source": [
    "#SQL\n",
    "spark.sql(\"\"\"select sname\n",
    "            from student_view\n",
    "            left join borrow_view\n",
    "            on student_view.sid = borrow_view.sid\n",
    "            where borrow_view.sid = 'null'\"\"\").show()"
   ]
  },
  {
   "cell_type": "markdown",
   "metadata": {},
   "source": [
    "### 6- Déterminer l’auteur qui a écrit le plus de livres. "
   ]
  },
  {
   "cell_type": "code",
   "execution_count": 185,
   "metadata": {},
   "outputs": [
    {
     "name": "stdout",
     "output_type": "stream",
     "text": [
      "+-----------------+------+\n",
      "|             name|nombre|\n",
      "+-----------------+------+\n",
      "|Pierre de Ronsard|     1|\n",
      "| Jean Paul Sartre|     2|\n",
      "+-----------------+------+\n",
      "\n"
     ]
    }
   ],
   "source": [
    "#DSL\n",
    "write=write.dropDuplicates()\n",
    "df=write.groupBy(write.aid).agg(\n",
    "    F.count(write.aid).alias('nombre'))\n",
    "df.join(Author, df.aid==Author.aid).select(\"name\",'nombre').show()"
   ]
  },
  {
   "cell_type": "code",
   "execution_count": 186,
   "metadata": {},
   "outputs": [
    {
     "name": "stdout",
     "output_type": "stream",
     "text": [
      "+-----------------+------+\n",
      "|             name|nombre|\n",
      "+-----------------+------+\n",
      "| Jean Paul Sartre|     2|\n",
      "|Pierre de Ronsard|     1|\n",
      "+-----------------+------+\n",
      "\n"
     ]
    }
   ],
   "source": [
    "#QSL\n",
    "write.createOrReplaceTempView(\"write_view\")\n",
    "Author.createOrReplaceTempView(\"author_view\")\n",
    "spark.sql(\"\"\"select name , count(bid) as nombre\n",
    "            from author_view\n",
    "            join write_view\n",
    "            on author_view.aid = write_view.aid\n",
    "            group by name\"\"\").show()"
   ]
  },
  {
   "cell_type": "markdown",
   "metadata": {},
   "source": [
    "### 7- Déterminer les personnes qui n’ont pas encore rendu les livres."
   ]
  },
  {
   "cell_type": "code",
   "execution_count": 137,
   "metadata": {},
   "outputs": [
    {
     "name": "stdout",
     "output_type": "stream",
     "text": [
      "+-----+\n",
      "|sname|\n",
      "+-----+\n",
      "| toto|\n",
      "+-----+\n",
      "\n"
     ]
    }
   ],
   "source": [
    "#DSL\n",
    "borrow.filter(borrow.return_time =='null').join(student, borrow.sid==student.sid).select(\"sname\").show()"
   ]
  },
  {
   "cell_type": "code",
   "execution_count": 188,
   "metadata": {},
   "outputs": [
    {
     "name": "stdout",
     "output_type": "stream",
     "text": [
      "+-----+\n",
      "|sname|\n",
      "+-----+\n",
      "| toto|\n",
      "+-----+\n",
      "\n"
     ]
    }
   ],
   "source": [
    "#SQL\n",
    "spark.sql(\"\"\"select sname\n",
    "            from student_view\n",
    "            join borrow_view\n",
    "            on student_view.sid = borrow_view.sid\n",
    "            where borrow_view.return_time = 'null' \"\"\").show()"
   ]
  },
  {
   "cell_type": "markdown",
   "metadata": {},
   "source": [
    "### 8- Créer une nouvelle colonne dans la table borrow qui prend la valeur 1, si la durée d'emprunt est supérieur à 3 mois,  sinon 0.  (utiliser la fonction spark to_date) par la suite faire un export des données en CSV. dans un répertoire nommé contention"
   ]
  },
  {
   "cell_type": "code",
   "execution_count": 164,
   "metadata": {
    "scrolled": true
   },
   "outputs": [
    {
     "name": "stdout",
     "output_type": "stream",
     "text": [
      "+---+----+-------------+-----------+-------------+\n",
      "|sid| bid|checkout_date|return_date|Return_status|\n",
      "+---+----+-------------+-----------+-------------+\n",
      "|S15|0001|   2020-06-13| 2020-10-13|            1|\n",
      "|S17|0001|   2020-04-12| 2020-07-01|            0|\n",
      "|S15|0003|   2020-01-02| 2020-02-01|            0|\n",
      "|S16|0002|   2020-01-24| 2020-01-24|            0|\n",
      "|S15|0002|   2020-06-13|       null|            0|\n",
      "+---+----+-------------+-----------+-------------+\n",
      "\n"
     ]
    }
   ],
   "source": [
    "tab=spark.sql(\"\"\"\n",
    "  SELECT TO_DATE(CAST(UNIX_TIMESTAMP(checkout_time, 'dd-MM-yyyy') AS TIMESTAMP)) AS checkout_date,TO_DATE(CAST(UNIX_TIMESTAMP(return_time, 'dd-MM-yyyy') AS TIMESTAMP)) AS return_date,bid,sid from borrow_view\"\"\"\n",
    ")\n",
    "tab=tab.withColumn(\"duree\",F.datediff( \"return_date\",\"checkout_date\"))\n",
    "tab=tab.withColumn('Return_status', F.when(F.col('duree') > 120, \"1\").otherwise(\"0\"))\n",
    "cond = [borrow.sid==tab.sid , borrow.bid==tab.bid]\n",
    "borrow.join(tab, cond).select(borrow.sid,borrow.bid, 'checkout_date','return_date','Return_status').show()"
   ]
  },
  {
   "cell_type": "code",
   "execution_count": 175,
   "metadata": {
    "scrolled": true
   },
   "outputs": [],
   "source": [
    "borrow_csv=borrow.join(tab, cond).select(borrow.sid,borrow.bid, 'checkout_date','return_date','Return_status')\n",
    "borrow_csv.toPandas().to_csv(\"borrow_csv.csv\",index=False)"
   ]
  },
  {
   "cell_type": "markdown",
   "metadata": {},
   "source": [
    "### 9-déterminer les livres qui n’ont jamais été empruntés. "
   ]
  },
  {
   "cell_type": "code",
   "execution_count": 169,
   "metadata": {},
   "outputs": [
    {
     "name": "stdout",
     "output_type": "stream",
     "text": [
      "+----------+\n",
      "|     title|\n",
      "+----------+\n",
      "|Les Amours|\n",
      "+----------+\n",
      "\n"
     ]
    }
   ],
   "source": [
    "#DSL\n",
    "book.join(borrow, borrow.bid==book.bid,'anti').select(\"title\").show()"
   ]
  },
  {
   "cell_type": "code",
   "execution_count": 189,
   "metadata": {},
   "outputs": [
    {
     "name": "stdout",
     "output_type": "stream",
     "text": [
      "+----------+\n",
      "|     title|\n",
      "+----------+\n",
      "|Les Amours|\n",
      "+----------+\n",
      "\n"
     ]
    }
   ],
   "source": [
    "#SQL\n",
    "spark.sql(\"\"\"select title\n",
    "            from book_view\n",
    "            left join borrow_view\n",
    "            on book_view.bid = borrow_view.bid\n",
    "            where borrow_view.bid is null\"\"\").show()"
   ]
  }
 ],
 "metadata": {
  "kernelspec": {
   "display_name": "Python 3",
   "language": "python",
   "name": "python3"
  },
  "language_info": {
   "codemirror_mode": {
    "name": "ipython",
    "version": 3
   },
   "file_extension": ".py",
   "mimetype": "text/x-python",
   "name": "python",
   "nbconvert_exporter": "python",
   "pygments_lexer": "ipython3",
   "version": "3.7.4"
  }
 },
 "nbformat": 4,
 "nbformat_minor": 2
}
